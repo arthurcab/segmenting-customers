{
 "cells": [
  {
   "cell_type": "markdown",
   "metadata": {},
   "source": [
    "# Segmenting customers by RFM Score\n",
    "\n",
    "The purpose of this notebook is to use K-Means Clustering to segment a customer base in 3 groups based on their RFM Score.\n",
    "\n",
    "\n",
    "## RFM\n",
    "\n",
    "The RFM Score (Recency, Frequency, Monetary Value) is a metric that analyzes the customer based on three data points:\n",
    "\n",
    "- **Recency**: How recently the customer made a purchase\n",
    "- **Frequency**: How often do they purchase\n",
    "- **Monetary Value**: How much they spent\n",
    "\n",
    "RFM analysis classifies customers with a numerical ranking of the three categories, with the ideal customer earning the highest on each category.\n",
    "\n",
    "\n",
    "## The Data\n",
    "\n",
    "The dataset contains about three years worth of anonymized transactions from a Brazilian tech retail store."
   ]
  },
  {
   "cell_type": "code",
   "execution_count": 1,
   "metadata": {},
   "outputs": [],
   "source": [
    "import pandas as pd\n",
    "import numpy as np\n",
    "import matplotlib.pyplot as plt\n",
    "%matplotlib inline\n",
    "\n",
    "import warnings\n",
    "warnings.filterwarnings('ignore')\n",
    "\n",
    "# K-Means to cluster the users\n",
    "from sklearn.cluster import KMeans\n",
    "\n",
    "# Yellowbrick for model visualization\n",
    "from yellowbrick.cluster import KElbowVisualizer"
   ]
  },
  {
   "cell_type": "code",
   "execution_count": 2,
   "metadata": {},
   "outputs": [],
   "source": [
    "# Define the functions\n",
    "def order_clusters(cluster, target, df, ascending):\n",
    "    new_cluster = 'new' + cluster\n",
    "    \n",
    "    temp = df.groupby(cluster)[target].mean().reset_index()\n",
    "    temp = temp.sort_values(by=target, ascending=ascending).reset_index(drop=True)\n",
    "    temp['index'] = temp.index\n",
    "    \n",
    "    cluster_df = pd.merge(df, temp[[cluster, 'index']], on=cluster)\n",
    "    cluster_df = cluster_df.drop([cluster], axis=1)\n",
    "    cluster_df = cluster_df.rename(columns={'index':cluster})\n",
    "    \n",
    "    return cluster_df\n",
    "\n",
    "def rfm_cluster(df, cluster_variable, n_clusters, ascending):\n",
    "    \n",
    "    # Create and fit the k-means \n",
    "    model = KMeans(n_clusters=n_clusters)\n",
    "    model.fit(df[[cluster_variable]])\n",
    "    \n",
    "    # predict the cluster and pass it to the dataframe\n",
    "    df[cluster_variable + 'Cluster'] = model.predict(df[[cluster_variable]])\n",
    "    \n",
    "    # order the cluster numbers\n",
    "    df = order_clusters(cluster_variable + 'Cluster', cluster_variable, df, ascending)\n",
    "    \n",
    "    return df"
   ]
  },
  {
   "cell_type": "code",
   "execution_count": 4,
   "metadata": {},
   "outputs": [],
   "source": [
    "df = pd.read_csv('data/ecommerce tech retail - 2018 a 2020.csv')"
   ]
  },
  {
   "cell_type": "code",
   "execution_count": 30,
   "metadata": {},
   "outputs": [],
   "source": [
    "# df = df[(df['Date'] > '2019-06-15') & (df['Date'] < '2020-06-15')]"
   ]
  },
  {
   "cell_type": "code",
   "execution_count": 5,
   "metadata": {},
   "outputs": [
    {
     "data": {
      "text/html": [
       "<div>\n",
       "<style scoped>\n",
       "    .dataframe tbody tr th:only-of-type {\n",
       "        vertical-align: middle;\n",
       "    }\n",
       "\n",
       "    .dataframe tbody tr th {\n",
       "        vertical-align: top;\n",
       "    }\n",
       "\n",
       "    .dataframe thead th {\n",
       "        text-align: right;\n",
       "    }\n",
       "</style>\n",
       "<table border=\"1\" class=\"dataframe\">\n",
       "  <thead>\n",
       "    <tr style=\"text-align: right;\">\n",
       "      <th></th>\n",
       "      <th>Date</th>\n",
       "      <th>Client ID</th>\n",
       "      <th>Transaction ID</th>\n",
       "      <th>Transactions</th>\n",
       "      <th>Transaction revenue</th>\n",
       "      <th>Item revenue</th>\n",
       "      <th>Item quantity</th>\n",
       "      <th>Transaction shipping</th>\n",
       "      <th>Items per purchase</th>\n",
       "    </tr>\n",
       "  </thead>\n",
       "  <tbody>\n",
       "    <tr>\n",
       "      <th>0</th>\n",
       "      <td>2018-01-01</td>\n",
       "      <td>531.543.711.514.850.000</td>\n",
       "      <td>100493910</td>\n",
       "      <td>1</td>\n",
       "      <td>80,91</td>\n",
       "      <td>89,9</td>\n",
       "      <td>1</td>\n",
       "      <td>0</td>\n",
       "      <td>1</td>\n",
       "    </tr>\n",
       "    <tr>\n",
       "      <th>1</th>\n",
       "      <td>2018-01-01</td>\n",
       "      <td>1.380.362.241.514.800.000</td>\n",
       "      <td>100493895</td>\n",
       "      <td>1</td>\n",
       "      <td>531,73</td>\n",
       "      <td>499</td>\n",
       "      <td>1</td>\n",
       "      <td>72,75</td>\n",
       "      <td>1</td>\n",
       "    </tr>\n",
       "    <tr>\n",
       "      <th>2</th>\n",
       "      <td>2018-01-01</td>\n",
       "      <td>2.096.043.641.509.890.000</td>\n",
       "      <td>100493894</td>\n",
       "      <td>1</td>\n",
       "      <td>399</td>\n",
       "      <td>399</td>\n",
       "      <td>1</td>\n",
       "      <td>0</td>\n",
       "      <td>1</td>\n",
       "    </tr>\n",
       "    <tr>\n",
       "      <th>3</th>\n",
       "      <td>2018-01-01</td>\n",
       "      <td>4.598.890.021.514.840.000</td>\n",
       "      <td>100493907</td>\n",
       "      <td>1</td>\n",
       "      <td>1024,07</td>\n",
       "      <td>999</td>\n",
       "      <td>1</td>\n",
       "      <td>25,07</td>\n",
       "      <td>1</td>\n",
       "    </tr>\n",
       "    <tr>\n",
       "      <th>4</th>\n",
       "      <td>2018-01-01</td>\n",
       "      <td>13.577.253.201.514.800.000</td>\n",
       "      <td>100493903</td>\n",
       "      <td>1</td>\n",
       "      <td>185,07</td>\n",
       "      <td>199</td>\n",
       "      <td>1</td>\n",
       "      <td>0</td>\n",
       "      <td>1</td>\n",
       "    </tr>\n",
       "  </tbody>\n",
       "</table>\n",
       "</div>"
      ],
      "text/plain": [
       "         Date                   Client ID  Transaction ID  Transactions  \\\n",
       "0  2018-01-01     531.543.711.514.850.000       100493910             1   \n",
       "1  2018-01-01   1.380.362.241.514.800.000       100493895             1   \n",
       "2  2018-01-01   2.096.043.641.509.890.000       100493894             1   \n",
       "3  2018-01-01   4.598.890.021.514.840.000       100493907             1   \n",
       "4  2018-01-01  13.577.253.201.514.800.000       100493903             1   \n",
       "\n",
       "  Transaction revenue Item revenue  Item quantity Transaction shipping  \\\n",
       "0               80,91         89,9              1                    0   \n",
       "1              531,73          499              1                72,75   \n",
       "2                 399          399              1                    0   \n",
       "3             1024,07          999              1                25,07   \n",
       "4              185,07          199              1                    0   \n",
       "\n",
       "  Items per purchase  \n",
       "0                  1  \n",
       "1                  1  \n",
       "2                  1  \n",
       "3                  1  \n",
       "4                  1  "
      ]
     },
     "execution_count": 5,
     "metadata": {},
     "output_type": "execute_result"
    }
   ],
   "source": [
    "df.head()"
   ]
  },
  {
   "cell_type": "code",
   "execution_count": 6,
   "metadata": {},
   "outputs": [],
   "source": [
    "df['Date'] = pd.to_datetime(df['Date'])"
   ]
  },
  {
   "cell_type": "code",
   "execution_count": 7,
   "metadata": {},
   "outputs": [],
   "source": [
    "# Replace the commas with points\n",
    "df['Transaction revenue'] = df['Transaction revenue'].str.replace(',', '.')\n",
    "df['Transaction shipping'] = df['Transaction shipping'].str.replace(',', '.')"
   ]
  },
  {
   "cell_type": "code",
   "execution_count": 8,
   "metadata": {},
   "outputs": [],
   "source": [
    "# Convert to numeric\n",
    "df['Transaction revenue'] = pd.to_numeric(df['Transaction revenue'])\n",
    "df['Transaction shipping'] = pd.to_numeric(df['Transaction shipping'])"
   ]
  },
  {
   "cell_type": "code",
   "execution_count": 9,
   "metadata": {},
   "outputs": [
    {
     "name": "stdout",
     "output_type": "stream",
     "text": [
      "<class 'pandas.core.frame.DataFrame'>\n",
      "RangeIndex: 40576 entries, 0 to 40575\n",
      "Data columns (total 9 columns):\n",
      " #   Column                Non-Null Count  Dtype         \n",
      "---  ------                --------------  -----         \n",
      " 0   Date                  40576 non-null  datetime64[ns]\n",
      " 1   Client ID             40576 non-null  object        \n",
      " 2   Transaction ID        40576 non-null  int64         \n",
      " 3   Transactions          40576 non-null  int64         \n",
      " 4   Transaction revenue   40576 non-null  float64       \n",
      " 5   Item revenue          40576 non-null  object        \n",
      " 6   Item quantity         40576 non-null  int64         \n",
      " 7   Transaction shipping  40576 non-null  float64       \n",
      " 8   Items per purchase    40576 non-null  object        \n",
      "dtypes: datetime64[ns](1), float64(2), int64(3), object(3)\n",
      "memory usage: 2.8+ MB\n"
     ]
    }
   ],
   "source": [
    "df.info()"
   ]
  },
  {
   "cell_type": "code",
   "execution_count": 10,
   "metadata": {},
   "outputs": [
    {
     "name": "stdout",
     "output_type": "stream",
     "text": [
      "Total customers: 40576\n",
      "Unique customers: 30842\n",
      "Quantity sold: 65548\n",
      "Revenue: 45976465.18\n"
     ]
    }
   ],
   "source": [
    "# define and check a few metrics about the dataset\n",
    "maxdate = df['Date'].dt.date.max()\n",
    "mindate = df['Date'].dt.date.min()\n",
    "total_customers = df['Client ID'].count()\n",
    "unique_customers = df['Client ID'].nunique()\n",
    "quantity = df['Item quantity'].sum()\n",
    "revenue = df['Transaction revenue'].sum()\n",
    "\n",
    "print(f'Total customers: {total_customers}')\n",
    "print(f'Unique customers: {unique_customers}')\n",
    "print(f'Quantity sold: {quantity}')\n",
    "print(f'Revenue: {revenue}')"
   ]
  },
  {
   "cell_type": "code",
   "execution_count": 11,
   "metadata": {},
   "outputs": [
    {
     "data": {
      "text/html": [
       "<div>\n",
       "<style scoped>\n",
       "    .dataframe tbody tr th:only-of-type {\n",
       "        vertical-align: middle;\n",
       "    }\n",
       "\n",
       "    .dataframe tbody tr th {\n",
       "        vertical-align: top;\n",
       "    }\n",
       "\n",
       "    .dataframe thead th {\n",
       "        text-align: right;\n",
       "    }\n",
       "</style>\n",
       "<table border=\"1\" class=\"dataframe\">\n",
       "  <thead>\n",
       "    <tr style=\"text-align: right;\">\n",
       "      <th></th>\n",
       "      <th>Client ID</th>\n",
       "    </tr>\n",
       "  </thead>\n",
       "  <tbody>\n",
       "    <tr>\n",
       "      <th>0</th>\n",
       "      <td>531.543.711.514.850.000</td>\n",
       "    </tr>\n",
       "    <tr>\n",
       "      <th>1</th>\n",
       "      <td>1.380.362.241.514.800.000</td>\n",
       "    </tr>\n",
       "    <tr>\n",
       "      <th>2</th>\n",
       "      <td>2.096.043.641.509.890.000</td>\n",
       "    </tr>\n",
       "    <tr>\n",
       "      <th>3</th>\n",
       "      <td>4.598.890.021.514.840.000</td>\n",
       "    </tr>\n",
       "    <tr>\n",
       "      <th>4</th>\n",
       "      <td>13.577.253.201.514.800.000</td>\n",
       "    </tr>\n",
       "    <tr>\n",
       "      <th>...</th>\n",
       "      <td>...</td>\n",
       "    </tr>\n",
       "    <tr>\n",
       "      <th>30837</th>\n",
       "      <td>17.074.155.721.590.600.000</td>\n",
       "    </tr>\n",
       "    <tr>\n",
       "      <th>30838</th>\n",
       "      <td>18.118.606.781.591.500.000</td>\n",
       "    </tr>\n",
       "    <tr>\n",
       "      <th>30839</th>\n",
       "      <td>18.557.209.511.591.500.000</td>\n",
       "    </tr>\n",
       "    <tr>\n",
       "      <th>30840</th>\n",
       "      <td>19.034.703.911.591.300.000</td>\n",
       "    </tr>\n",
       "    <tr>\n",
       "      <th>30841</th>\n",
       "      <td>19.125.750.371.591.500.000</td>\n",
       "    </tr>\n",
       "  </tbody>\n",
       "</table>\n",
       "<p>30842 rows × 1 columns</p>\n",
       "</div>"
      ],
      "text/plain": [
       "                        Client ID\n",
       "0         531.543.711.514.850.000\n",
       "1       1.380.362.241.514.800.000\n",
       "2       2.096.043.641.509.890.000\n",
       "3       4.598.890.021.514.840.000\n",
       "4      13.577.253.201.514.800.000\n",
       "...                           ...\n",
       "30837  17.074.155.721.590.600.000\n",
       "30838  18.118.606.781.591.500.000\n",
       "30839  18.557.209.511.591.500.000\n",
       "30840  19.034.703.911.591.300.000\n",
       "30841  19.125.750.371.591.500.000\n",
       "\n",
       "[30842 rows x 1 columns]"
      ]
     },
     "execution_count": 11,
     "metadata": {},
     "output_type": "execute_result"
    }
   ],
   "source": [
    "# Create the users dataframe\n",
    "users = pd.DataFrame(df['Client ID'].unique())\n",
    "users.columns = ['Client ID']\n",
    "users"
   ]
  },
  {
   "cell_type": "markdown",
   "metadata": {},
   "source": [
    "# Calculating Recency\n",
    "   > Recency describes in days how recently a customer made a purchase"
   ]
  },
  {
   "cell_type": "code",
   "execution_count": 12,
   "metadata": {},
   "outputs": [
    {
     "data": {
      "text/html": [
       "<div>\n",
       "<style scoped>\n",
       "    .dataframe tbody tr th:only-of-type {\n",
       "        vertical-align: middle;\n",
       "    }\n",
       "\n",
       "    .dataframe tbody tr th {\n",
       "        vertical-align: top;\n",
       "    }\n",
       "\n",
       "    .dataframe thead th {\n",
       "        text-align: right;\n",
       "    }\n",
       "</style>\n",
       "<table border=\"1\" class=\"dataframe\">\n",
       "  <thead>\n",
       "    <tr style=\"text-align: right;\">\n",
       "      <th></th>\n",
       "      <th>Client ID</th>\n",
       "      <th>Recency</th>\n",
       "    </tr>\n",
       "  </thead>\n",
       "  <tbody>\n",
       "    <tr>\n",
       "      <th>0</th>\n",
       "      <td>531.543.711.514.850.000</td>\n",
       "      <td>888</td>\n",
       "    </tr>\n",
       "    <tr>\n",
       "      <th>1</th>\n",
       "      <td>1.380.362.241.514.800.000</td>\n",
       "      <td>888</td>\n",
       "    </tr>\n",
       "    <tr>\n",
       "      <th>2</th>\n",
       "      <td>2.096.043.641.509.890.000</td>\n",
       "      <td>878</td>\n",
       "    </tr>\n",
       "    <tr>\n",
       "      <th>3</th>\n",
       "      <td>4.598.890.021.514.840.000</td>\n",
       "      <td>888</td>\n",
       "    </tr>\n",
       "    <tr>\n",
       "      <th>4</th>\n",
       "      <td>13.577.253.201.514.800.000</td>\n",
       "      <td>888</td>\n",
       "    </tr>\n",
       "  </tbody>\n",
       "</table>\n",
       "</div>"
      ],
      "text/plain": [
       "                    Client ID  Recency\n",
       "0     531.543.711.514.850.000      888\n",
       "1   1.380.362.241.514.800.000      888\n",
       "2   2.096.043.641.509.890.000      878\n",
       "3   4.598.890.021.514.840.000      888\n",
       "4  13.577.253.201.514.800.000      888"
      ]
     },
     "execution_count": 12,
     "metadata": {},
     "output_type": "execute_result"
    }
   ],
   "source": [
    "# Get the latest purchase date for each client and pass it to a df\n",
    "latest_purchase = df.groupby('Client ID').Date.max().reset_index()\n",
    "latest_purchase.columns = ['Client ID', 'LatestPurchaseDate']\n",
    "latest_purchase['LatestPurchaseDate'] = latest_purchase['LatestPurchaseDate'].dt.date\n",
    "\n",
    "# Calculate Recency\n",
    "latest_purchase['Recency'] = (latest_purchase['LatestPurchaseDate'].max() - latest_purchase['LatestPurchaseDate']).dt.days\n",
    "\n",
    "# Merge the dataframes\n",
    "users = pd.merge(users, latest_purchase[['Client ID', 'Recency']], on='Client ID')\n",
    "users.head()"
   ]
  },
  {
   "cell_type": "code",
   "execution_count": 13,
   "metadata": {},
   "outputs": [
    {
     "data": {
      "image/png": "[encoded data removed]",
      "text/plain": [
       "<Figure size 720x432 with 1 Axes>"
      ]
     },
     "metadata": {},
     "output_type": "display_data"
    }
   ],
   "source": [
    "# Plot the distribution of Recency\n",
    "fig = plt.figure(figsize=(10, 6))\n",
    "plt.hist(users['Recency']);"
   ]
  },
  {
   "cell_type": "markdown",
   "metadata": {},
   "source": [
    "We can see that the majority of purchases were very recent compared to the entire range of the dataset."
   ]
  },
  {
   "cell_type": "code",
   "execution_count": 15,
   "metadata": {},
   "outputs": [
    {
     "data": {
      "text/plain": [
       "count    30842.000000\n",
       "mean       385.439433\n",
       "std        273.825349\n",
       "min          0.000000\n",
       "25%        100.000000\n",
       "50%        389.000000\n",
       "75%        605.000000\n",
       "max        888.000000\n",
       "Name: Recency, dtype: float64"
      ]
     },
     "execution_count": 15,
     "metadata": {},
     "output_type": "execute_result"
    }
   ],
   "source": [
    "users['Recency'].describe()"
   ]
  },
  {
   "cell_type": "markdown",
   "metadata": {},
   "source": [
    "# Frequency\n",
    "> Frequency indicates how oftenly a customers makes a purchase"
   ]
  },
  {
   "cell_type": "code",
   "execution_count": 17,
   "metadata": {},
   "outputs": [],
   "source": [
    "# Create the frequency df\n",
    "frequency = df.groupby('Client ID')['Date'].count().reset_index()\n",
    "frequency.columns = ['Client ID', 'Frequency']"
   ]
  },
  {
   "cell_type": "code",
   "execution_count": 18,
   "metadata": {},
   "outputs": [
    {
     "data": {
      "text/html": [
       "<div>\n",
       "<style scoped>\n",
       "    .dataframe tbody tr th:only-of-type {\n",
       "        vertical-align: middle;\n",
       "    }\n",
       "\n",
       "    .dataframe tbody tr th {\n",
       "        vertical-align: top;\n",
       "    }\n",
       "\n",
       "    .dataframe thead th {\n",
       "        text-align: right;\n",
       "    }\n",
       "</style>\n",
       "<table border=\"1\" class=\"dataframe\">\n",
       "  <thead>\n",
       "    <tr style=\"text-align: right;\">\n",
       "      <th></th>\n",
       "      <th>Client ID</th>\n",
       "      <th>Recency</th>\n",
       "      <th>Frequency</th>\n",
       "    </tr>\n",
       "  </thead>\n",
       "  <tbody>\n",
       "    <tr>\n",
       "      <th>0</th>\n",
       "      <td>531.543.711.514.850.000</td>\n",
       "      <td>888</td>\n",
       "      <td>1</td>\n",
       "    </tr>\n",
       "    <tr>\n",
       "      <th>1</th>\n",
       "      <td>1.380.362.241.514.800.000</td>\n",
       "      <td>888</td>\n",
       "      <td>1</td>\n",
       "    </tr>\n",
       "    <tr>\n",
       "      <th>2</th>\n",
       "      <td>2.096.043.641.509.890.000</td>\n",
       "      <td>878</td>\n",
       "      <td>2</td>\n",
       "    </tr>\n",
       "    <tr>\n",
       "      <th>3</th>\n",
       "      <td>4.598.890.021.514.840.000</td>\n",
       "      <td>888</td>\n",
       "      <td>1</td>\n",
       "    </tr>\n",
       "    <tr>\n",
       "      <th>4</th>\n",
       "      <td>13.577.253.201.514.800.000</td>\n",
       "      <td>888</td>\n",
       "      <td>1</td>\n",
       "    </tr>\n",
       "  </tbody>\n",
       "</table>\n",
       "</div>"
      ],
      "text/plain": [
       "                    Client ID  Recency  Frequency\n",
       "0     531.543.711.514.850.000      888          1\n",
       "1   1.380.362.241.514.800.000      888          1\n",
       "2   2.096.043.641.509.890.000      878          2\n",
       "3   4.598.890.021.514.840.000      888          1\n",
       "4  13.577.253.201.514.800.000      888          1"
      ]
     },
     "execution_count": 18,
     "metadata": {},
     "output_type": "execute_result"
    }
   ],
   "source": [
    "# Merge with the users df\n",
    "users = pd.merge(users, frequency, on='Client ID')\n",
    "users.head()"
   ]
  },
  {
   "cell_type": "code",
   "execution_count": 19,
   "metadata": {},
   "outputs": [
    {
     "data": {
      "image/png": "[encoded data removed]",
      "text/plain": [
       "<Figure size 576x396 with 1 Axes>"
      ]
     },
     "metadata": {},
     "output_type": "display_data"
    }
   ],
   "source": [
    "plt.hist(users['Frequency']);"
   ]
  },
  {
   "cell_type": "markdown",
   "metadata": {},
   "source": [
    "The vast amount of customers makes less than 10 purchases on the ecommerce. This is terrible customer retention and can be due to myriad of reasons: bigger competitors entering the Brazilian market (e.g. Amazon), poor customer service, bad marketing strategies etc."
   ]
  },
  {
   "cell_type": "code",
   "execution_count": 20,
   "metadata": {},
   "outputs": [
    {
     "data": {
      "text/plain": [
       "count    30842.000000\n",
       "mean         1.315609\n",
       "std          1.136794\n",
       "min          1.000000\n",
       "25%          1.000000\n",
       "50%          1.000000\n",
       "75%          1.000000\n",
       "max         51.000000\n",
       "Name: Frequency, dtype: float64"
      ]
     },
     "execution_count": 20,
     "metadata": {},
     "output_type": "execute_result"
    }
   ],
   "source": [
    "users['Frequency'].describe()"
   ]
  },
  {
   "cell_type": "markdown",
   "metadata": {},
   "source": [
    "At least 75% of the clients have only bought once from the store."
   ]
  },
  {
   "cell_type": "markdown",
   "metadata": {},
   "source": [
    "# Monetary Value (Revenue)\n",
    "> How much money a customer has spent on purchases"
   ]
  },
  {
   "cell_type": "code",
   "execution_count": 21,
   "metadata": {},
   "outputs": [],
   "source": [
    "# Calculate revenue for each individual customer\n",
    "revenue = df.groupby('Client ID')['Transaction revenue'].sum().reset_index()"
   ]
  },
  {
   "cell_type": "code",
   "execution_count": 22,
   "metadata": {},
   "outputs": [
    {
     "data": {
      "text/html": [
       "<div>\n",
       "<style scoped>\n",
       "    .dataframe tbody tr th:only-of-type {\n",
       "        vertical-align: middle;\n",
       "    }\n",
       "\n",
       "    .dataframe tbody tr th {\n",
       "        vertical-align: top;\n",
       "    }\n",
       "\n",
       "    .dataframe thead th {\n",
       "        text-align: right;\n",
       "    }\n",
       "</style>\n",
       "<table border=\"1\" class=\"dataframe\">\n",
       "  <thead>\n",
       "    <tr style=\"text-align: right;\">\n",
       "      <th></th>\n",
       "      <th>Client ID</th>\n",
       "      <th>Transaction revenue</th>\n",
       "    </tr>\n",
       "  </thead>\n",
       "  <tbody>\n",
       "    <tr>\n",
       "      <th>0</th>\n",
       "      <td>1.000.181.311.588.320.000</td>\n",
       "      <td>998.00</td>\n",
       "    </tr>\n",
       "    <tr>\n",
       "      <th>1</th>\n",
       "      <td>1.000.546.241.572.000.000</td>\n",
       "      <td>348.78</td>\n",
       "    </tr>\n",
       "    <tr>\n",
       "      <th>2</th>\n",
       "      <td>1.004.431.231.540.770.000</td>\n",
       "      <td>999.00</td>\n",
       "    </tr>\n",
       "    <tr>\n",
       "      <th>3</th>\n",
       "      <td>1.004.875.601.549.710.000</td>\n",
       "      <td>2098.00</td>\n",
       "    </tr>\n",
       "    <tr>\n",
       "      <th>4</th>\n",
       "      <td>1.006.786.651.535.540.000</td>\n",
       "      <td>2157.84</td>\n",
       "    </tr>\n",
       "  </tbody>\n",
       "</table>\n",
       "</div>"
      ],
      "text/plain": [
       "                   Client ID  Transaction revenue\n",
       "0  1.000.181.311.588.320.000               998.00\n",
       "1  1.000.546.241.572.000.000               348.78\n",
       "2  1.004.431.231.540.770.000               999.00\n",
       "3  1.004.875.601.549.710.000              2098.00\n",
       "4  1.006.786.651.535.540.000              2157.84"
      ]
     },
     "execution_count": 22,
     "metadata": {},
     "output_type": "execute_result"
    }
   ],
   "source": [
    "revenue.head()"
   ]
  },
  {
   "cell_type": "code",
   "execution_count": 23,
   "metadata": {},
   "outputs": [],
   "source": [
    "# Merge with the users df\n",
    "users = pd.merge(revenue, users, on='Client ID')"
   ]
  },
  {
   "cell_type": "code",
   "execution_count": 24,
   "metadata": {},
   "outputs": [
    {
     "data": {
      "text/html": [
       "<div>\n",
       "<style scoped>\n",
       "    .dataframe tbody tr th:only-of-type {\n",
       "        vertical-align: middle;\n",
       "    }\n",
       "\n",
       "    .dataframe tbody tr th {\n",
       "        vertical-align: top;\n",
       "    }\n",
       "\n",
       "    .dataframe thead th {\n",
       "        text-align: right;\n",
       "    }\n",
       "</style>\n",
       "<table border=\"1\" class=\"dataframe\">\n",
       "  <thead>\n",
       "    <tr style=\"text-align: right;\">\n",
       "      <th></th>\n",
       "      <th>Client ID</th>\n",
       "      <th>Revenue</th>\n",
       "      <th>Recency</th>\n",
       "      <th>Frequency</th>\n",
       "    </tr>\n",
       "  </thead>\n",
       "  <tbody>\n",
       "    <tr>\n",
       "      <th>0</th>\n",
       "      <td>1.000.181.311.588.320.000</td>\n",
       "      <td>998.00</td>\n",
       "      <td>37</td>\n",
       "      <td>1</td>\n",
       "    </tr>\n",
       "    <tr>\n",
       "      <th>1</th>\n",
       "      <td>1.000.546.241.572.000.000</td>\n",
       "      <td>348.78</td>\n",
       "      <td>226</td>\n",
       "      <td>2</td>\n",
       "    </tr>\n",
       "    <tr>\n",
       "      <th>2</th>\n",
       "      <td>1.004.431.231.540.770.000</td>\n",
       "      <td>999.00</td>\n",
       "      <td>588</td>\n",
       "      <td>1</td>\n",
       "    </tr>\n",
       "    <tr>\n",
       "      <th>3</th>\n",
       "      <td>1.004.875.601.549.710.000</td>\n",
       "      <td>2098.00</td>\n",
       "      <td>484</td>\n",
       "      <td>2</td>\n",
       "    </tr>\n",
       "    <tr>\n",
       "      <th>4</th>\n",
       "      <td>1.006.786.651.535.540.000</td>\n",
       "      <td>2157.84</td>\n",
       "      <td>648</td>\n",
       "      <td>2</td>\n",
       "    </tr>\n",
       "  </tbody>\n",
       "</table>\n",
       "</div>"
      ],
      "text/plain": [
       "                   Client ID  Revenue  Recency  Frequency\n",
       "0  1.000.181.311.588.320.000   998.00       37          1\n",
       "1  1.000.546.241.572.000.000   348.78      226          2\n",
       "2  1.004.431.231.540.770.000   999.00      588          1\n",
       "3  1.004.875.601.549.710.000  2098.00      484          2\n",
       "4  1.006.786.651.535.540.000  2157.84      648          2"
      ]
     },
     "execution_count": 24,
     "metadata": {},
     "output_type": "execute_result"
    }
   ],
   "source": [
    "users.columns = ['Client ID', 'Revenue', 'Recency', 'Frequency']\n",
    "users.head()"
   ]
  },
  {
   "cell_type": "markdown",
   "metadata": {},
   "source": [
    "# Calculate the time between purchases"
   ]
  },
  {
   "cell_type": "code",
   "execution_count": 26,
   "metadata": {},
   "outputs": [],
   "source": [
    "df['Days between purchases'] = np.around((df['Date'] - df['Date'].min()) / np.timedelta64(len(users), 'D'))"
   ]
  },
  {
   "cell_type": "code",
   "execution_count": 27,
   "metadata": {},
   "outputs": [],
   "source": [
    "time_between_purchases = df.groupby('Client ID')['Days between purchases'].mean().reset_index()"
   ]
  },
  {
   "cell_type": "code",
   "execution_count": 28,
   "metadata": {},
   "outputs": [],
   "source": [
    "users = pd.merge(time_between_purchases, users, on='Client ID')"
   ]
  },
  {
   "cell_type": "code",
   "execution_count": 29,
   "metadata": {},
   "outputs": [
    {
     "data": {
      "text/html": [
       "<div>\n",
       "<style scoped>\n",
       "    .dataframe tbody tr th:only-of-type {\n",
       "        vertical-align: middle;\n",
       "    }\n",
       "\n",
       "    .dataframe tbody tr th {\n",
       "        vertical-align: top;\n",
       "    }\n",
       "\n",
       "    .dataframe thead th {\n",
       "        text-align: right;\n",
       "    }\n",
       "</style>\n",
       "<table border=\"1\" class=\"dataframe\">\n",
       "  <thead>\n",
       "    <tr style=\"text-align: right;\">\n",
       "      <th></th>\n",
       "      <th>Client ID</th>\n",
       "      <th>Days between purchases</th>\n",
       "      <th>Revenue</th>\n",
       "      <th>Recency</th>\n",
       "      <th>Frequency</th>\n",
       "    </tr>\n",
       "  </thead>\n",
       "  <tbody>\n",
       "    <tr>\n",
       "      <th>0</th>\n",
       "      <td>1.000.181.311.588.320.000</td>\n",
       "      <td>0.0</td>\n",
       "      <td>998.00</td>\n",
       "      <td>37</td>\n",
       "      <td>1</td>\n",
       "    </tr>\n",
       "    <tr>\n",
       "      <th>1</th>\n",
       "      <td>1.000.546.241.572.000.000</td>\n",
       "      <td>0.0</td>\n",
       "      <td>348.78</td>\n",
       "      <td>226</td>\n",
       "      <td>2</td>\n",
       "    </tr>\n",
       "    <tr>\n",
       "      <th>2</th>\n",
       "      <td>1.004.431.231.540.770.000</td>\n",
       "      <td>0.0</td>\n",
       "      <td>999.00</td>\n",
       "      <td>588</td>\n",
       "      <td>1</td>\n",
       "    </tr>\n",
       "    <tr>\n",
       "      <th>3</th>\n",
       "      <td>1.004.875.601.549.710.000</td>\n",
       "      <td>0.0</td>\n",
       "      <td>2098.00</td>\n",
       "      <td>484</td>\n",
       "      <td>2</td>\n",
       "    </tr>\n",
       "    <tr>\n",
       "      <th>4</th>\n",
       "      <td>1.006.786.651.535.540.000</td>\n",
       "      <td>0.0</td>\n",
       "      <td>2157.84</td>\n",
       "      <td>648</td>\n",
       "      <td>2</td>\n",
       "    </tr>\n",
       "  </tbody>\n",
       "</table>\n",
       "</div>"
      ],
      "text/plain": [
       "                   Client ID  Days between purchases  Revenue  Recency  \\\n",
       "0  1.000.181.311.588.320.000                     0.0   998.00       37   \n",
       "1  1.000.546.241.572.000.000                     0.0   348.78      226   \n",
       "2  1.004.431.231.540.770.000                     0.0   999.00      588   \n",
       "3  1.004.875.601.549.710.000                     0.0  2098.00      484   \n",
       "4  1.006.786.651.535.540.000                     0.0  2157.84      648   \n",
       "\n",
       "   Frequency  \n",
       "0          1  \n",
       "1          2  \n",
       "2          1  \n",
       "3          2  \n",
       "4          2  "
      ]
     },
     "execution_count": 29,
     "metadata": {},
     "output_type": "execute_result"
    }
   ],
   "source": [
    "users.head()"
   ]
  },
  {
   "cell_type": "code",
   "execution_count": 30,
   "metadata": {},
   "outputs": [],
   "source": [
    "# export the df to a csv file\n",
    "users.to_csv('users_data.csv', index=False, header=['ID do Cliente','Dias entre compras', 'Receita Total do Cliente', 'Dias desde a última compra', 'Quantidade de vezes que o cliente comprou'])"
   ]
  },
  {
   "cell_type": "markdown",
   "metadata": {},
   "source": [
    "# Creating the clusters"
   ]
  },
  {
   "cell_type": "code",
   "execution_count": 31,
   "metadata": {},
   "outputs": [
    {
     "data": {
      "image/png": "[encoded data removed]",
      "text/plain": [
       "<Figure size 576x396 with 2 Axes>"
      ]
     },
     "metadata": {},
     "output_type": "display_data"
    }
   ],
   "source": [
    "model = KMeans()\n",
    "\n",
    "revenue_score = users[['Revenue']]\n",
    "\n",
    "visualizer = KElbowVisualizer(model, k=(1, 11))\n",
    "\n",
    "visualizer.fit(revenue_score)\n",
    "visualizer.show();"
   ]
  },
  {
   "cell_type": "markdown",
   "metadata": {},
   "source": [
    "The optimum amount of clusters is 4"
   ]
  },
  {
   "cell_type": "markdown",
   "metadata": {},
   "source": [
    "# Recency Cluster"
   ]
  },
  {
   "cell_type": "code",
   "execution_count": 32,
   "metadata": {},
   "outputs": [
    {
     "data": {
      "text/html": [
       "<div>\n",
       "<style scoped>\n",
       "    .dataframe tbody tr th:only-of-type {\n",
       "        vertical-align: middle;\n",
       "    }\n",
       "\n",
       "    .dataframe tbody tr th {\n",
       "        vertical-align: top;\n",
       "    }\n",
       "\n",
       "    .dataframe thead th {\n",
       "        text-align: right;\n",
       "    }\n",
       "</style>\n",
       "<table border=\"1\" class=\"dataframe\">\n",
       "  <thead>\n",
       "    <tr style=\"text-align: right;\">\n",
       "      <th></th>\n",
       "      <th>Client ID</th>\n",
       "      <th>Days between purchases</th>\n",
       "      <th>Revenue</th>\n",
       "      <th>Recency</th>\n",
       "      <th>Frequency</th>\n",
       "      <th>RecencyCluster</th>\n",
       "    </tr>\n",
       "  </thead>\n",
       "  <tbody>\n",
       "    <tr>\n",
       "      <th>0</th>\n",
       "      <td>1.000.181.311.588.320.000</td>\n",
       "      <td>0.0</td>\n",
       "      <td>998.00</td>\n",
       "      <td>37</td>\n",
       "      <td>1</td>\n",
       "      <td>3</td>\n",
       "    </tr>\n",
       "    <tr>\n",
       "      <th>1</th>\n",
       "      <td>1.007.647.271.568.850.000</td>\n",
       "      <td>0.0</td>\n",
       "      <td>3799.00</td>\n",
       "      <td>42</td>\n",
       "      <td>1</td>\n",
       "      <td>3</td>\n",
       "    </tr>\n",
       "    <tr>\n",
       "      <th>2</th>\n",
       "      <td>1.011.452.831.583.090.000</td>\n",
       "      <td>0.0</td>\n",
       "      <td>2434.89</td>\n",
       "      <td>95</td>\n",
       "      <td>1</td>\n",
       "      <td>3</td>\n",
       "    </tr>\n",
       "    <tr>\n",
       "      <th>3</th>\n",
       "      <td>1.012.919.581.587.220.000</td>\n",
       "      <td>0.0</td>\n",
       "      <td>179.80</td>\n",
       "      <td>50</td>\n",
       "      <td>1</td>\n",
       "      <td>3</td>\n",
       "    </tr>\n",
       "    <tr>\n",
       "      <th>4</th>\n",
       "      <td>1.018.704.401.586.450.000</td>\n",
       "      <td>0.0</td>\n",
       "      <td>1708.10</td>\n",
       "      <td>59</td>\n",
       "      <td>1</td>\n",
       "      <td>3</td>\n",
       "    </tr>\n",
       "  </tbody>\n",
       "</table>\n",
       "</div>"
      ],
      "text/plain": [
       "                   Client ID  Days between purchases  Revenue  Recency  \\\n",
       "0  1.000.181.311.588.320.000                     0.0   998.00       37   \n",
       "1  1.007.647.271.568.850.000                     0.0  3799.00       42   \n",
       "2  1.011.452.831.583.090.000                     0.0  2434.89       95   \n",
       "3  1.012.919.581.587.220.000                     0.0   179.80       50   \n",
       "4  1.018.704.401.586.450.000                     0.0  1708.10       59   \n",
       "\n",
       "   Frequency  RecencyCluster  \n",
       "0          1               3  \n",
       "1          1               3  \n",
       "2          1               3  \n",
       "3          1               3  \n",
       "4          1               3  "
      ]
     },
     "execution_count": 32,
     "metadata": {},
     "output_type": "execute_result"
    }
   ],
   "source": [
    "users = rfm_cluster(users, 'Recency', 4, False)\n",
    "\n",
    "users.head()"
   ]
  },
  {
   "cell_type": "code",
   "execution_count": 33,
   "metadata": {},
   "outputs": [
    {
     "data": {
      "text/html": [
       "<div>\n",
       "<style scoped>\n",
       "    .dataframe tbody tr th:only-of-type {\n",
       "        vertical-align: middle;\n",
       "    }\n",
       "\n",
       "    .dataframe tbody tr th {\n",
       "        vertical-align: top;\n",
       "    }\n",
       "\n",
       "    .dataframe thead th {\n",
       "        text-align: right;\n",
       "    }\n",
       "</style>\n",
       "<table border=\"1\" class=\"dataframe\">\n",
       "  <thead>\n",
       "    <tr style=\"text-align: right;\">\n",
       "      <th></th>\n",
       "      <th>count</th>\n",
       "      <th>mean</th>\n",
       "      <th>std</th>\n",
       "      <th>min</th>\n",
       "      <th>25%</th>\n",
       "      <th>50%</th>\n",
       "      <th>75%</th>\n",
       "      <th>max</th>\n",
       "    </tr>\n",
       "    <tr>\n",
       "      <th>RecencyCluster</th>\n",
       "      <th></th>\n",
       "      <th></th>\n",
       "      <th></th>\n",
       "      <th></th>\n",
       "      <th></th>\n",
       "      <th></th>\n",
       "      <th></th>\n",
       "      <th></th>\n",
       "    </tr>\n",
       "  </thead>\n",
       "  <tbody>\n",
       "    <tr>\n",
       "      <th>0</th>\n",
       "      <td>6481.0</td>\n",
       "      <td>768.154297</td>\n",
       "      <td>68.413866</td>\n",
       "      <td>650.0</td>\n",
       "      <td>704.0</td>\n",
       "      <td>774.0</td>\n",
       "      <td>829.0</td>\n",
       "      <td>888.0</td>\n",
       "    </tr>\n",
       "    <tr>\n",
       "      <th>1</th>\n",
       "      <td>8012.0</td>\n",
       "      <td>533.519096</td>\n",
       "      <td>63.789296</td>\n",
       "      <td>416.0</td>\n",
       "      <td>481.0</td>\n",
       "      <td>542.0</td>\n",
       "      <td>579.0</td>\n",
       "      <td>649.0</td>\n",
       "    </tr>\n",
       "    <tr>\n",
       "      <th>2</th>\n",
       "      <td>7269.0</td>\n",
       "      <td>299.323841</td>\n",
       "      <td>70.168866</td>\n",
       "      <td>175.0</td>\n",
       "      <td>236.0</td>\n",
       "      <td>304.0</td>\n",
       "      <td>361.0</td>\n",
       "      <td>415.0</td>\n",
       "    </tr>\n",
       "    <tr>\n",
       "      <th>3</th>\n",
       "      <td>9080.0</td>\n",
       "      <td>50.547907</td>\n",
       "      <td>42.690905</td>\n",
       "      <td>0.0</td>\n",
       "      <td>16.0</td>\n",
       "      <td>41.0</td>\n",
       "      <td>68.0</td>\n",
       "      <td>174.0</td>\n",
       "    </tr>\n",
       "  </tbody>\n",
       "</table>\n",
       "</div>"
      ],
      "text/plain": [
       "                 count        mean        std    min    25%    50%    75%  \\\n",
       "RecencyCluster                                                              \n",
       "0               6481.0  768.154297  68.413866  650.0  704.0  774.0  829.0   \n",
       "1               8012.0  533.519096  63.789296  416.0  481.0  542.0  579.0   \n",
       "2               7269.0  299.323841  70.168866  175.0  236.0  304.0  361.0   \n",
       "3               9080.0   50.547907  42.690905    0.0   16.0   41.0   68.0   \n",
       "\n",
       "                  max  \n",
       "RecencyCluster         \n",
       "0               888.0  \n",
       "1               649.0  \n",
       "2               415.0  \n",
       "3               174.0  "
      ]
     },
     "execution_count": 33,
     "metadata": {},
     "output_type": "execute_result"
    }
   ],
   "source": [
    "users.groupby('RecencyCluster')['Recency'].describe()"
   ]
  },
  {
   "cell_type": "markdown",
   "metadata": {},
   "source": [
    "# Monetary Value (Revenue) Cluster"
   ]
  },
  {
   "cell_type": "code",
   "execution_count": 34,
   "metadata": {},
   "outputs": [
    {
     "data": {
      "text/html": [
       "<div>\n",
       "<style scoped>\n",
       "    .dataframe tbody tr th:only-of-type {\n",
       "        vertical-align: middle;\n",
       "    }\n",
       "\n",
       "    .dataframe tbody tr th {\n",
       "        vertical-align: top;\n",
       "    }\n",
       "\n",
       "    .dataframe thead th {\n",
       "        text-align: right;\n",
       "    }\n",
       "</style>\n",
       "<table border=\"1\" class=\"dataframe\">\n",
       "  <thead>\n",
       "    <tr style=\"text-align: right;\">\n",
       "      <th></th>\n",
       "      <th>Client ID</th>\n",
       "      <th>Days between purchases</th>\n",
       "      <th>Revenue</th>\n",
       "      <th>Recency</th>\n",
       "      <th>Frequency</th>\n",
       "      <th>RecencyCluster</th>\n",
       "      <th>RevenueCluster</th>\n",
       "    </tr>\n",
       "  </thead>\n",
       "  <tbody>\n",
       "    <tr>\n",
       "      <th>0</th>\n",
       "      <td>1.000.181.311.588.320.000</td>\n",
       "      <td>0.0</td>\n",
       "      <td>998.00</td>\n",
       "      <td>37</td>\n",
       "      <td>1</td>\n",
       "      <td>3</td>\n",
       "      <td>0</td>\n",
       "    </tr>\n",
       "    <tr>\n",
       "      <th>1</th>\n",
       "      <td>1.007.647.271.568.850.000</td>\n",
       "      <td>0.0</td>\n",
       "      <td>3799.00</td>\n",
       "      <td>42</td>\n",
       "      <td>1</td>\n",
       "      <td>3</td>\n",
       "      <td>0</td>\n",
       "    </tr>\n",
       "    <tr>\n",
       "      <th>2</th>\n",
       "      <td>1.011.452.831.583.090.000</td>\n",
       "      <td>0.0</td>\n",
       "      <td>2434.89</td>\n",
       "      <td>95</td>\n",
       "      <td>1</td>\n",
       "      <td>3</td>\n",
       "      <td>0</td>\n",
       "    </tr>\n",
       "    <tr>\n",
       "      <th>3</th>\n",
       "      <td>1.012.919.581.587.220.000</td>\n",
       "      <td>0.0</td>\n",
       "      <td>179.80</td>\n",
       "      <td>50</td>\n",
       "      <td>1</td>\n",
       "      <td>3</td>\n",
       "      <td>0</td>\n",
       "    </tr>\n",
       "    <tr>\n",
       "      <th>4</th>\n",
       "      <td>1.018.704.401.586.450.000</td>\n",
       "      <td>0.0</td>\n",
       "      <td>1708.10</td>\n",
       "      <td>59</td>\n",
       "      <td>1</td>\n",
       "      <td>3</td>\n",
       "      <td>0</td>\n",
       "    </tr>\n",
       "  </tbody>\n",
       "</table>\n",
       "</div>"
      ],
      "text/plain": [
       "                   Client ID  Days between purchases  Revenue  Recency  \\\n",
       "0  1.000.181.311.588.320.000                     0.0   998.00       37   \n",
       "1  1.007.647.271.568.850.000                     0.0  3799.00       42   \n",
       "2  1.011.452.831.583.090.000                     0.0  2434.89       95   \n",
       "3  1.012.919.581.587.220.000                     0.0   179.80       50   \n",
       "4  1.018.704.401.586.450.000                     0.0  1708.10       59   \n",
       "\n",
       "   Frequency  RecencyCluster  RevenueCluster  \n",
       "0          1               3               0  \n",
       "1          1               3               0  \n",
       "2          1               3               0  \n",
       "3          1               3               0  \n",
       "4          1               3               0  "
      ]
     },
     "execution_count": 34,
     "metadata": {},
     "output_type": "execute_result"
    }
   ],
   "source": [
    "users = rfm_cluster(users, 'Revenue', 4, True)\n",
    "users.head()"
   ]
  },
  {
   "cell_type": "code",
   "execution_count": 35,
   "metadata": {},
   "outputs": [
    {
     "data": {
      "text/html": [
       "<div>\n",
       "<style scoped>\n",
       "    .dataframe tbody tr th:only-of-type {\n",
       "        vertical-align: middle;\n",
       "    }\n",
       "\n",
       "    .dataframe tbody tr th {\n",
       "        vertical-align: top;\n",
       "    }\n",
       "\n",
       "    .dataframe thead th {\n",
       "        text-align: right;\n",
       "    }\n",
       "</style>\n",
       "<table border=\"1\" class=\"dataframe\">\n",
       "  <thead>\n",
       "    <tr style=\"text-align: right;\">\n",
       "      <th></th>\n",
       "      <th>count</th>\n",
       "      <th>mean</th>\n",
       "      <th>std</th>\n",
       "      <th>min</th>\n",
       "      <th>25%</th>\n",
       "      <th>50%</th>\n",
       "      <th>75%</th>\n",
       "      <th>max</th>\n",
       "    </tr>\n",
       "    <tr>\n",
       "      <th>RevenueCluster</th>\n",
       "      <th></th>\n",
       "      <th></th>\n",
       "      <th></th>\n",
       "      <th></th>\n",
       "      <th></th>\n",
       "      <th></th>\n",
       "      <th></th>\n",
       "      <th></th>\n",
       "    </tr>\n",
       "  </thead>\n",
       "  <tbody>\n",
       "    <tr>\n",
       "      <th>0</th>\n",
       "      <td>28817.0</td>\n",
       "      <td>944.900513</td>\n",
       "      <td>992.192048</td>\n",
       "      <td>1.71</td>\n",
       "      <td>197.2900</td>\n",
       "      <td>568.05</td>\n",
       "      <td>1389.6000</td>\n",
       "      <td>4446.00</td>\n",
       "    </tr>\n",
       "    <tr>\n",
       "      <th>1</th>\n",
       "      <td>1986.0</td>\n",
       "      <td>7970.660645</td>\n",
       "      <td>4427.749310</td>\n",
       "      <td>4463.10</td>\n",
       "      <td>5102.5300</td>\n",
       "      <td>6483.85</td>\n",
       "      <td>8992.0425</td>\n",
       "      <td>33271.89</td>\n",
       "    </tr>\n",
       "    <tr>\n",
       "      <th>2</th>\n",
       "      <td>38.0</td>\n",
       "      <td>60067.692105</td>\n",
       "      <td>26665.760303</td>\n",
       "      <td>34952.50</td>\n",
       "      <td>40216.4175</td>\n",
       "      <td>51334.25</td>\n",
       "      <td>64104.5550</td>\n",
       "      <td>127960.05</td>\n",
       "    </tr>\n",
       "    <tr>\n",
       "      <th>3</th>\n",
       "      <td>1.0</td>\n",
       "      <td>634962.770000</td>\n",
       "      <td>NaN</td>\n",
       "      <td>634962.77</td>\n",
       "      <td>634962.7700</td>\n",
       "      <td>634962.77</td>\n",
       "      <td>634962.7700</td>\n",
       "      <td>634962.77</td>\n",
       "    </tr>\n",
       "  </tbody>\n",
       "</table>\n",
       "</div>"
      ],
      "text/plain": [
       "                  count           mean           std        min          25%  \\\n",
       "RevenueCluster                                                                 \n",
       "0               28817.0     944.900513    992.192048       1.71     197.2900   \n",
       "1                1986.0    7970.660645   4427.749310    4463.10    5102.5300   \n",
       "2                  38.0   60067.692105  26665.760303   34952.50   40216.4175   \n",
       "3                   1.0  634962.770000           NaN  634962.77  634962.7700   \n",
       "\n",
       "                      50%          75%        max  \n",
       "RevenueCluster                                     \n",
       "0                  568.05    1389.6000    4446.00  \n",
       "1                 6483.85    8992.0425   33271.89  \n",
       "2                51334.25   64104.5550  127960.05  \n",
       "3               634962.77  634962.7700  634962.77  "
      ]
     },
     "execution_count": 35,
     "metadata": {},
     "output_type": "execute_result"
    }
   ],
   "source": [
    "users.groupby('RevenueCluster')['Revenue'].describe()"
   ]
  },
  {
   "cell_type": "markdown",
   "metadata": {},
   "source": [
    "# Frequency Cluster"
   ]
  },
  {
   "cell_type": "code",
   "execution_count": 40,
   "metadata": {},
   "outputs": [
    {
     "data": {
      "text/html": [
       "<div>\n",
       "<style scoped>\n",
       "    .dataframe tbody tr th:only-of-type {\n",
       "        vertical-align: middle;\n",
       "    }\n",
       "\n",
       "    .dataframe tbody tr th {\n",
       "        vertical-align: top;\n",
       "    }\n",
       "\n",
       "    .dataframe thead th {\n",
       "        text-align: right;\n",
       "    }\n",
       "</style>\n",
       "<table border=\"1\" class=\"dataframe\">\n",
       "  <thead>\n",
       "    <tr style=\"text-align: right;\">\n",
       "      <th></th>\n",
       "      <th>count</th>\n",
       "      <th>mean</th>\n",
       "      <th>std</th>\n",
       "      <th>min</th>\n",
       "      <th>25%</th>\n",
       "      <th>50%</th>\n",
       "      <th>75%</th>\n",
       "      <th>max</th>\n",
       "    </tr>\n",
       "    <tr>\n",
       "      <th>FrequencyCluster</th>\n",
       "      <th></th>\n",
       "      <th></th>\n",
       "      <th></th>\n",
       "      <th></th>\n",
       "      <th></th>\n",
       "      <th></th>\n",
       "      <th></th>\n",
       "      <th></th>\n",
       "    </tr>\n",
       "  </thead>\n",
       "  <tbody>\n",
       "    <tr>\n",
       "      <th>0</th>\n",
       "      <td>25387.0</td>\n",
       "      <td>1.000000</td>\n",
       "      <td>0.000000</td>\n",
       "      <td>1.0</td>\n",
       "      <td>1.0</td>\n",
       "      <td>1.0</td>\n",
       "      <td>1.00</td>\n",
       "      <td>1.0</td>\n",
       "    </tr>\n",
       "    <tr>\n",
       "      <th>1</th>\n",
       "      <td>5006.0</td>\n",
       "      <td>2.347982</td>\n",
       "      <td>0.616103</td>\n",
       "      <td>2.0</td>\n",
       "      <td>2.0</td>\n",
       "      <td>2.0</td>\n",
       "      <td>3.00</td>\n",
       "      <td>4.0</td>\n",
       "    </tr>\n",
       "    <tr>\n",
       "      <th>2</th>\n",
       "      <td>431.0</td>\n",
       "      <td>6.825986</td>\n",
       "      <td>2.466496</td>\n",
       "      <td>5.0</td>\n",
       "      <td>5.0</td>\n",
       "      <td>6.0</td>\n",
       "      <td>8.00</td>\n",
       "      <td>17.0</td>\n",
       "    </tr>\n",
       "    <tr>\n",
       "      <th>3</th>\n",
       "      <td>18.0</td>\n",
       "      <td>27.388889</td>\n",
       "      <td>11.251870</td>\n",
       "      <td>18.0</td>\n",
       "      <td>20.0</td>\n",
       "      <td>22.0</td>\n",
       "      <td>31.25</td>\n",
       "      <td>51.0</td>\n",
       "    </tr>\n",
       "  </tbody>\n",
       "</table>\n",
       "</div>"
      ],
      "text/plain": [
       "                    count       mean        std   min   25%   50%    75%   max\n",
       "FrequencyCluster                                                              \n",
       "0                 25387.0   1.000000   0.000000   1.0   1.0   1.0   1.00   1.0\n",
       "1                  5006.0   2.347982   0.616103   2.0   2.0   2.0   3.00   4.0\n",
       "2                   431.0   6.825986   2.466496   5.0   5.0   6.0   8.00  17.0\n",
       "3                    18.0  27.388889  11.251870  18.0  20.0  22.0  31.25  51.0"
      ]
     },
     "execution_count": 40,
     "metadata": {},
     "output_type": "execute_result"
    }
   ],
   "source": [
    "# Create the Frequency Clusters\n",
    "users = rfm_cluster(users,'Frequency', 4, True)\n",
    "\n",
    "# describe the clusters\n",
    "users.groupby('FrequencyCluster')['Frequency'].describe()"
   ]
  },
  {
   "cell_type": "markdown",
   "metadata": {},
   "source": [
    "# Overall RFM Score\n",
    "> For this particular RFM model, all the features will have the same weight, but this can easily be ajusted in the formula below"
   ]
  },
  {
   "cell_type": "code",
   "execution_count": 42,
   "metadata": {},
   "outputs": [
    {
     "data": {
      "text/html": [
       "<div>\n",
       "<style scoped>\n",
       "    .dataframe tbody tr th:only-of-type {\n",
       "        vertical-align: middle;\n",
       "    }\n",
       "\n",
       "    .dataframe tbody tr th {\n",
       "        vertical-align: top;\n",
       "    }\n",
       "\n",
       "    .dataframe thead th {\n",
       "        text-align: right;\n",
       "    }\n",
       "</style>\n",
       "<table border=\"1\" class=\"dataframe\">\n",
       "  <thead>\n",
       "    <tr style=\"text-align: right;\">\n",
       "      <th></th>\n",
       "      <th>Recency</th>\n",
       "      <th>Frequency</th>\n",
       "      <th>Revenue</th>\n",
       "    </tr>\n",
       "    <tr>\n",
       "      <th>OverallScore</th>\n",
       "      <th></th>\n",
       "      <th></th>\n",
       "      <th></th>\n",
       "    </tr>\n",
       "  </thead>\n",
       "  <tbody>\n",
       "    <tr>\n",
       "      <th>-3</th>\n",
       "      <td>51.723017</td>\n",
       "      <td>1.000000</td>\n",
       "      <td>758.597929</td>\n",
       "    </tr>\n",
       "    <tr>\n",
       "      <th>-2</th>\n",
       "      <td>261.556547</td>\n",
       "      <td>1.145407</td>\n",
       "      <td>1016.639891</td>\n",
       "    </tr>\n",
       "    <tr>\n",
       "      <th>-1</th>\n",
       "      <td>483.476772</td>\n",
       "      <td>1.233209</td>\n",
       "      <td>1317.300098</td>\n",
       "    </tr>\n",
       "    <tr>\n",
       "      <th>0</th>\n",
       "      <td>695.141947</td>\n",
       "      <td>1.342866</td>\n",
       "      <td>1534.266102</td>\n",
       "    </tr>\n",
       "    <tr>\n",
       "      <th>1</th>\n",
       "      <td>685.592503</td>\n",
       "      <td>2.640871</td>\n",
       "      <td>4391.993930</td>\n",
       "    </tr>\n",
       "    <tr>\n",
       "      <th>2</th>\n",
       "      <td>695.662857</td>\n",
       "      <td>4.520000</td>\n",
       "      <td>11199.602171</td>\n",
       "    </tr>\n",
       "    <tr>\n",
       "      <th>3</th>\n",
       "      <td>738.386667</td>\n",
       "      <td>7.973333</td>\n",
       "      <td>16376.219200</td>\n",
       "    </tr>\n",
       "    <tr>\n",
       "      <th>4</th>\n",
       "      <td>675.090909</td>\n",
       "      <td>19.090909</td>\n",
       "      <td>48371.509091</td>\n",
       "    </tr>\n",
       "    <tr>\n",
       "      <th>5</th>\n",
       "      <td>727.000000</td>\n",
       "      <td>26.000000</td>\n",
       "      <td>50495.805000</td>\n",
       "    </tr>\n",
       "  </tbody>\n",
       "</table>\n",
       "</div>"
      ],
      "text/plain": [
       "                 Recency  Frequency       Revenue\n",
       "OverallScore                                     \n",
       "-3             51.723017   1.000000    758.597929\n",
       "-2            261.556547   1.145407   1016.639891\n",
       "-1            483.476772   1.233209   1317.300098\n",
       " 0            695.141947   1.342866   1534.266102\n",
       " 1            685.592503   2.640871   4391.993930\n",
       " 2            695.662857   4.520000  11199.602171\n",
       " 3            738.386667   7.973333  16376.219200\n",
       " 4            675.090909  19.090909  48371.509091\n",
       " 5            727.000000  26.000000  50495.805000"
      ]
     },
     "execution_count": 42,
     "metadata": {},
     "output_type": "execute_result"
    }
   ],
   "source": [
    "# Calculate OverallScore\n",
    "users['OverallScore'] = users['FrequencyCluster'] + users['RevenueCluster'] - users['RecencyCluster'] \n",
    "\n",
    "# Show the mean of the features for each OverallScore value\n",
    "users.groupby('OverallScore')[['Recency', 'Frequency', 'Revenue']].mean()"
   ]
  },
  {
   "cell_type": "markdown",
   "metadata": {},
   "source": [
    "We can arbitrarily assign labels for the different Overall Score clusters for the sake of simplicity\n",
    "\n",
    "| Value   | Label  |\n",
    "|---------|--------|\n",
    "| (-3,-1) | Low    |\n",
    "| (0,2)   | Medium |\n",
    "| (3,5)   | High   |"
   ]
  },
  {
   "cell_type": "code",
   "execution_count": 44,
   "metadata": {},
   "outputs": [],
   "source": [
    "# Create the Segment variable based on the OverallScore\n",
    "x = users['OverallScore']\n",
    "conditions = [x<0, x<3]\n",
    "choices = ['Low', 'Medium']\n",
    "\n",
    "users['Segment'] = np.select(conditions, choices, default='High')"
   ]
  },
  {
   "cell_type": "code",
   "execution_count": 45,
   "metadata": {},
   "outputs": [
    {
     "data": {
      "image/png": "[encoded data removed]",
      "text/plain": [
       "<Figure size 720x432 with 1 Axes>"
      ]
     },
     "metadata": {},
     "output_type": "display_data"
    }
   ],
   "source": [
    "fig = plt.figure(figsize=(10, 6))\n",
    "plt.title('Segments')\n",
    "plt.xlabel('Revenue')\n",
    "plt.ylabel('Frequency')\n",
    "    \n",
    "plt.scatter(x=users.query(\"Segment == 'Low'\")['Revenue'],\n",
    "            y= users.query(\"Segment == 'Low'\")['Frequency'],\n",
    "            c='green', alpha=0.7, label='Low')\n",
    "\n",
    "plt.scatter(x=users.query(\"Segment == 'Medium'\")['Revenue'],\n",
    "            y=users.query(\"Segment == 'Medium'\")['Frequency'],\n",
    "            c='red', alpha=0.6, label='Medium')\n",
    "\n",
    "plt.scatter(x=users.query(\"Segment == 'High'\")['Revenue'],\n",
    "            y=users.query(\"Segment == 'High'\")['Frequency'],\n",
    "            c='blue', alpha=0.5, label='High')\n",
    "\n",
    "plt.legend();"
   ]
  },
  {
   "cell_type": "code",
   "execution_count": 46,
   "metadata": {},
   "outputs": [
    {
     "data": {
      "image/png": "[encoded data removed]",
      "text/plain": [
       "<Figure size 720x432 with 1 Axes>"
      ]
     },
     "metadata": {},
     "output_type": "display_data"
    }
   ],
   "source": [
    "fig = plt.figure(figsize=(10, 6))\n",
    "plt.title('Segments')\n",
    "plt.xlabel('Frequency')\n",
    "plt.ylabel('Revenue')\n",
    "    \n",
    "plt.scatter(x=users.query(\"Segment == 'Low'\")['Frequency'],\n",
    "            y= users.query(\"Segment == 'Low'\")['Revenue'],\n",
    "            c='green', alpha=0.7, label='Low')\n",
    "\n",
    "plt.scatter(x=users.query(\"Segment == 'Medium'\")['Frequency'],\n",
    "            y=users.query(\"Segment == 'Medium'\")['Revenue'],\n",
    "            c='red', alpha=0.6, label='Medium')\n",
    "\n",
    "plt.scatter(x=users.query(\"Segment == 'High'\")['Frequency'],\n",
    "            y=users.query(\"Segment == 'High'\")['Revenue'],\n",
    "            c='blue', alpha=0.5, label='High')\n",
    "\n",
    "plt.legend();"
   ]
  },
  {
   "cell_type": "code",
   "execution_count": 47,
   "metadata": {},
   "outputs": [
    {
     "data": {
      "image/png": "[encoded data removed]",
      "text/plain": [
       "<Figure size 720x432 with 1 Axes>"
      ]
     },
     "metadata": {},
     "output_type": "display_data"
    }
   ],
   "source": [
    "fig = plt.figure(figsize=(10, 6))\n",
    "plt.title('Segments')\n",
    "plt.xlabel('Recency')\n",
    "plt.ylabel('Revenue')\n",
    "\n",
    "plt.scatter(x=users.query(\"Segment == 'Low'\")['Recency'],\n",
    "            y= users.query(\"Segment == 'Low'\")['Revenue'],\n",
    "            c='green', alpha=0.7, label='Low')\n",
    "\n",
    "plt.scatter(x=users.query(\"Segment == 'Medium'\")['Recency'],\n",
    "            y=users.query(\"Segment == 'Medium'\")['Revenue'],\n",
    "            c='red', alpha=0.6, label='Medium')\n",
    "\n",
    "plt.scatter(x=users.query(\"Segment == 'High'\")['Recency'],\n",
    "            y=users.query(\"Segment == 'High'\")['Revenue'],\n",
    "            c='blue', alpha=0.5, label='High')\n",
    "\n",
    "plt.legend();"
   ]
  },
  {
   "cell_type": "code",
   "execution_count": 48,
   "metadata": {},
   "outputs": [
    {
     "data": {
      "image/png": "[encoded data removed]",
      "text/plain": [
       "<Figure size 720x432 with 1 Axes>"
      ]
     },
     "metadata": {},
     "output_type": "display_data"
    }
   ],
   "source": [
    "fig = plt.figure(figsize=(10, 6))\n",
    "plt.title('Segments')\n",
    "plt.xlabel('Recency')\n",
    "plt.ylabel('Frequency')\n",
    "    \n",
    "plt.scatter(x=users.query(\"Segment == 'Low'\")['Recency'],\n",
    "            y= users.query(\"Segment == 'Low'\")['Frequency'],\n",
    "            c='green', alpha=0.7, label='Low')\n",
    "\n",
    "plt.scatter(x=users.query(\"Segment == 'Medium'\")['Recency'],\n",
    "            y=users.query(\"Segment == 'Medium'\")['Frequency'],\n",
    "            c='red', alpha=0.6, label='Medium')\n",
    "\n",
    "plt.scatter(x=users.query(\"Segment == 'High'\")['Recency'],\n",
    "            y=users.query(\"Segment == 'High'\")['Frequency'],\n",
    "            c='blue', alpha=0.5, label='High')\n",
    "\n",
    "plt.legend();"
   ]
  },
  {
   "cell_type": "markdown",
   "metadata": {},
   "source": [
    "We can see the segments behave differently so we can apply adequate marketing strategies to the each group."
   ]
  },
  {
   "cell_type": "code",
   "execution_count": 49,
   "metadata": {},
   "outputs": [
    {
     "data": {
      "text/html": [
       "<div>\n",
       "<style scoped>\n",
       "    .dataframe tbody tr th:only-of-type {\n",
       "        vertical-align: middle;\n",
       "    }\n",
       "\n",
       "    .dataframe tbody tr th {\n",
       "        vertical-align: top;\n",
       "    }\n",
       "\n",
       "    .dataframe thead th {\n",
       "        text-align: right;\n",
       "    }\n",
       "</style>\n",
       "<table border=\"1\" class=\"dataframe\">\n",
       "  <thead>\n",
       "    <tr style=\"text-align: right;\">\n",
       "      <th></th>\n",
       "      <th>Client ID</th>\n",
       "      <th>Days between purchases</th>\n",
       "      <th>Revenue</th>\n",
       "      <th>Recency</th>\n",
       "      <th>Frequency</th>\n",
       "      <th>RecencyCluster</th>\n",
       "      <th>RevenueCluster</th>\n",
       "      <th>FrequencyCluster</th>\n",
       "      <th>OverallScore</th>\n",
       "      <th>Segment</th>\n",
       "    </tr>\n",
       "  </thead>\n",
       "  <tbody>\n",
       "    <tr>\n",
       "      <th>0</th>\n",
       "      <td>1.000.181.311.588.320.000</td>\n",
       "      <td>0.0</td>\n",
       "      <td>998.00</td>\n",
       "      <td>37</td>\n",
       "      <td>1</td>\n",
       "      <td>3</td>\n",
       "      <td>0</td>\n",
       "      <td>0</td>\n",
       "      <td>-3</td>\n",
       "      <td>Low</td>\n",
       "    </tr>\n",
       "    <tr>\n",
       "      <th>1</th>\n",
       "      <td>1.007.647.271.568.850.000</td>\n",
       "      <td>0.0</td>\n",
       "      <td>3799.00</td>\n",
       "      <td>42</td>\n",
       "      <td>1</td>\n",
       "      <td>3</td>\n",
       "      <td>0</td>\n",
       "      <td>0</td>\n",
       "      <td>-3</td>\n",
       "      <td>Low</td>\n",
       "    </tr>\n",
       "    <tr>\n",
       "      <th>2</th>\n",
       "      <td>1.011.452.831.583.090.000</td>\n",
       "      <td>0.0</td>\n",
       "      <td>2434.89</td>\n",
       "      <td>95</td>\n",
       "      <td>1</td>\n",
       "      <td>3</td>\n",
       "      <td>0</td>\n",
       "      <td>0</td>\n",
       "      <td>-3</td>\n",
       "      <td>Low</td>\n",
       "    </tr>\n",
       "    <tr>\n",
       "      <th>3</th>\n",
       "      <td>1.012.919.581.587.220.000</td>\n",
       "      <td>0.0</td>\n",
       "      <td>179.80</td>\n",
       "      <td>50</td>\n",
       "      <td>1</td>\n",
       "      <td>3</td>\n",
       "      <td>0</td>\n",
       "      <td>0</td>\n",
       "      <td>-3</td>\n",
       "      <td>Low</td>\n",
       "    </tr>\n",
       "    <tr>\n",
       "      <th>4</th>\n",
       "      <td>1.018.704.401.586.450.000</td>\n",
       "      <td>0.0</td>\n",
       "      <td>1708.10</td>\n",
       "      <td>59</td>\n",
       "      <td>1</td>\n",
       "      <td>3</td>\n",
       "      <td>0</td>\n",
       "      <td>0</td>\n",
       "      <td>-3</td>\n",
       "      <td>Low</td>\n",
       "    </tr>\n",
       "  </tbody>\n",
       "</table>\n",
       "</div>"
      ],
      "text/plain": [
       "                   Client ID  Days between purchases  Revenue  Recency  \\\n",
       "0  1.000.181.311.588.320.000                     0.0   998.00       37   \n",
       "1  1.007.647.271.568.850.000                     0.0  3799.00       42   \n",
       "2  1.011.452.831.583.090.000                     0.0  2434.89       95   \n",
       "3  1.012.919.581.587.220.000                     0.0   179.80       50   \n",
       "4  1.018.704.401.586.450.000                     0.0  1708.10       59   \n",
       "\n",
       "   Frequency  RecencyCluster  RevenueCluster  FrequencyCluster  OverallScore  \\\n",
       "0          1               3               0                 0            -3   \n",
       "1          1               3               0                 0            -3   \n",
       "2          1               3               0                 0            -3   \n",
       "3          1               3               0                 0            -3   \n",
       "4          1               3               0                 0            -3   \n",
       "\n",
       "  Segment  \n",
       "0     Low  \n",
       "1     Low  \n",
       "2     Low  \n",
       "3     Low  \n",
       "4     Low  "
      ]
     },
     "execution_count": 49,
     "metadata": {},
     "output_type": "execute_result"
    }
   ],
   "source": [
    "users.head()"
   ]
  }
 ],
 "metadata": {
  "kernelspec": {
   "display_name": "Python 3",
   "language": "python",
   "name": "python3"
  },
  "language_info": {
   "codemirror_mode": {
    "name": "ipython",
    "version": 3
   },
   "file_extension": ".py",
   "mimetype": "text/x-python",
   "name": "python",
   "nbconvert_exporter": "python",
   "pygments_lexer": "ipython3",
   "version": "3.7.4"
  }
 },
 "nbformat": 4,
 "nbformat_minor": 4
}
